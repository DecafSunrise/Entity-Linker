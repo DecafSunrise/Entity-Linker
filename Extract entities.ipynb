{
 "cells": [
  {
   "cell_type": "markdown",
   "id": "d45ba84d-236d-4b2f-926a-004b92a627c9",
   "metadata": {},
   "source": [
    "https://www.kaggle.com/code/tanyan13/news-article-classification"
   ]
  },
  {
   "cell_type": "code",
   "execution_count": 1,
   "id": "98c380ed-523e-4b33-8624-a5aed66f3df8",
   "metadata": {},
   "outputs": [],
   "source": [
    "import txtai"
   ]
  },
  {
   "cell_type": "code",
   "execution_count": 2,
   "id": "51744e2f-683e-4364-9a65-1e0edf151b77",
   "metadata": {},
   "outputs": [],
   "source": [
    "import pandas as pd"
   ]
  },
  {
   "cell_type": "code",
   "execution_count": 5,
   "id": "27479b4e-d08e-4331-b76c-f03f8cef1740",
   "metadata": {},
   "outputs": [],
   "source": [
    "import json"
   ]
  },
  {
   "cell_type": "code",
   "execution_count": 3,
   "id": "e205777f-ddb5-45ac-8c82-6612ed521658",
   "metadata": {},
   "outputs": [],
   "source": [
    "dataset = r\"D:\\work\\data\\text\\News_Category_Dataset_v3.json\""
   ]
  },
  {
   "cell_type": "code",
   "execution_count": 7,
   "id": "2c761ade-5466-4ca7-b373-97375e43db1a",
   "metadata": {},
   "outputs": [],
   "source": [
    "df = pd.read_json (dataset, lines = True)"
   ]
  },
  {
   "cell_type": "code",
   "execution_count": 9,
   "id": "7a5fdced-b2f4-4e1c-8c37-359e8b26dd15",
   "metadata": {},
   "outputs": [],
   "source": [
    "import spacy"
   ]
  },
  {
   "cell_type": "code",
   "execution_count": 8,
   "id": "46cdea6b-b187-4c47-959d-ec97c69c8c37",
   "metadata": {},
   "outputs": [
    {
     "data": {
      "text/html": [
       "<div>\n",
       "<style scoped>\n",
       "    .dataframe tbody tr th:only-of-type {\n",
       "        vertical-align: middle;\n",
       "    }\n",
       "\n",
       "    .dataframe tbody tr th {\n",
       "        vertical-align: top;\n",
       "    }\n",
       "\n",
       "    .dataframe thead th {\n",
       "        text-align: right;\n",
       "    }\n",
       "</style>\n",
       "<table border=\"1\" class=\"dataframe\">\n",
       "  <thead>\n",
       "    <tr style=\"text-align: right;\">\n",
       "      <th></th>\n",
       "      <th>link</th>\n",
       "      <th>headline</th>\n",
       "      <th>category</th>\n",
       "      <th>short_description</th>\n",
       "      <th>authors</th>\n",
       "      <th>date</th>\n",
       "    </tr>\n",
       "  </thead>\n",
       "  <tbody>\n",
       "    <tr>\n",
       "      <th>0</th>\n",
       "      <td>https://www.huffpost.com/entry/covid-boosters-...</td>\n",
       "      <td>Over 4 Million Americans Roll Up Sleeves For O...</td>\n",
       "      <td>U.S. NEWS</td>\n",
       "      <td>Health experts said it is too early to predict...</td>\n",
       "      <td>Carla K. Johnson, AP</td>\n",
       "      <td>2022-09-23</td>\n",
       "    </tr>\n",
       "    <tr>\n",
       "      <th>1</th>\n",
       "      <td>https://www.huffpost.com/entry/american-airlin...</td>\n",
       "      <td>American Airlines Flyer Charged, Banned For Li...</td>\n",
       "      <td>U.S. NEWS</td>\n",
       "      <td>He was subdued by passengers and crew when he ...</td>\n",
       "      <td>Mary Papenfuss</td>\n",
       "      <td>2022-09-23</td>\n",
       "    </tr>\n",
       "    <tr>\n",
       "      <th>2</th>\n",
       "      <td>https://www.huffpost.com/entry/funniest-tweets...</td>\n",
       "      <td>23 Of The Funniest Tweets About Cats And Dogs ...</td>\n",
       "      <td>COMEDY</td>\n",
       "      <td>\"Until you have a dog you don't understand wha...</td>\n",
       "      <td>Elyse Wanshel</td>\n",
       "      <td>2022-09-23</td>\n",
       "    </tr>\n",
       "    <tr>\n",
       "      <th>3</th>\n",
       "      <td>https://www.huffpost.com/entry/funniest-parent...</td>\n",
       "      <td>The Funniest Tweets From Parents This Week (Se...</td>\n",
       "      <td>PARENTING</td>\n",
       "      <td>\"Accidentally put grown-up toothpaste on my to...</td>\n",
       "      <td>Caroline Bologna</td>\n",
       "      <td>2022-09-23</td>\n",
       "    </tr>\n",
       "    <tr>\n",
       "      <th>4</th>\n",
       "      <td>https://www.huffpost.com/entry/amy-cooper-lose...</td>\n",
       "      <td>Woman Who Called Cops On Black Bird-Watcher Lo...</td>\n",
       "      <td>U.S. NEWS</td>\n",
       "      <td>Amy Cooper accused investment firm Franklin Te...</td>\n",
       "      <td>Nina Golgowski</td>\n",
       "      <td>2022-09-22</td>\n",
       "    </tr>\n",
       "    <tr>\n",
       "      <th>...</th>\n",
       "      <td>...</td>\n",
       "      <td>...</td>\n",
       "      <td>...</td>\n",
       "      <td>...</td>\n",
       "      <td>...</td>\n",
       "      <td>...</td>\n",
       "    </tr>\n",
       "    <tr>\n",
       "      <th>209522</th>\n",
       "      <td>https://www.huffingtonpost.com/entry/rim-ceo-t...</td>\n",
       "      <td>RIM CEO Thorsten Heins' 'Significant' Plans Fo...</td>\n",
       "      <td>TECH</td>\n",
       "      <td>Verizon Wireless and AT&amp;T are already promotin...</td>\n",
       "      <td>Reuters, Reuters</td>\n",
       "      <td>2012-01-28</td>\n",
       "    </tr>\n",
       "    <tr>\n",
       "      <th>209523</th>\n",
       "      <td>https://www.huffingtonpost.com/entry/maria-sha...</td>\n",
       "      <td>Maria Sharapova Stunned By Victoria Azarenka I...</td>\n",
       "      <td>SPORTS</td>\n",
       "      <td>Afterward, Azarenka, more effusive with the pr...</td>\n",
       "      <td></td>\n",
       "      <td>2012-01-28</td>\n",
       "    </tr>\n",
       "    <tr>\n",
       "      <th>209524</th>\n",
       "      <td>https://www.huffingtonpost.com/entry/super-bow...</td>\n",
       "      <td>Giants Over Patriots, Jets Over Colts Among  M...</td>\n",
       "      <td>SPORTS</td>\n",
       "      <td>Leading up to Super Bowl XLVI, the most talked...</td>\n",
       "      <td></td>\n",
       "      <td>2012-01-28</td>\n",
       "    </tr>\n",
       "    <tr>\n",
       "      <th>209525</th>\n",
       "      <td>https://www.huffingtonpost.com/entry/aldon-smi...</td>\n",
       "      <td>Aldon Smith Arrested: 49ers Linebacker Busted ...</td>\n",
       "      <td>SPORTS</td>\n",
       "      <td>CORRECTION: An earlier version of this story i...</td>\n",
       "      <td></td>\n",
       "      <td>2012-01-28</td>\n",
       "    </tr>\n",
       "    <tr>\n",
       "      <th>209526</th>\n",
       "      <td>https://www.huffingtonpost.com/entry/dwight-ho...</td>\n",
       "      <td>Dwight Howard Rips Teammates After Magic Loss ...</td>\n",
       "      <td>SPORTS</td>\n",
       "      <td>The five-time all-star center tore into his te...</td>\n",
       "      <td></td>\n",
       "      <td>2012-01-28</td>\n",
       "    </tr>\n",
       "  </tbody>\n",
       "</table>\n",
       "<p>209527 rows × 6 columns</p>\n",
       "</div>"
      ],
      "text/plain": [
       "                                                     link  \\\n",
       "0       https://www.huffpost.com/entry/covid-boosters-...   \n",
       "1       https://www.huffpost.com/entry/american-airlin...   \n",
       "2       https://www.huffpost.com/entry/funniest-tweets...   \n",
       "3       https://www.huffpost.com/entry/funniest-parent...   \n",
       "4       https://www.huffpost.com/entry/amy-cooper-lose...   \n",
       "...                                                   ...   \n",
       "209522  https://www.huffingtonpost.com/entry/rim-ceo-t...   \n",
       "209523  https://www.huffingtonpost.com/entry/maria-sha...   \n",
       "209524  https://www.huffingtonpost.com/entry/super-bow...   \n",
       "209525  https://www.huffingtonpost.com/entry/aldon-smi...   \n",
       "209526  https://www.huffingtonpost.com/entry/dwight-ho...   \n",
       "\n",
       "                                                 headline   category  \\\n",
       "0       Over 4 Million Americans Roll Up Sleeves For O...  U.S. NEWS   \n",
       "1       American Airlines Flyer Charged, Banned For Li...  U.S. NEWS   \n",
       "2       23 Of The Funniest Tweets About Cats And Dogs ...     COMEDY   \n",
       "3       The Funniest Tweets From Parents This Week (Se...  PARENTING   \n",
       "4       Woman Who Called Cops On Black Bird-Watcher Lo...  U.S. NEWS   \n",
       "...                                                   ...        ...   \n",
       "209522  RIM CEO Thorsten Heins' 'Significant' Plans Fo...       TECH   \n",
       "209523  Maria Sharapova Stunned By Victoria Azarenka I...     SPORTS   \n",
       "209524  Giants Over Patriots, Jets Over Colts Among  M...     SPORTS   \n",
       "209525  Aldon Smith Arrested: 49ers Linebacker Busted ...     SPORTS   \n",
       "209526  Dwight Howard Rips Teammates After Magic Loss ...     SPORTS   \n",
       "\n",
       "                                        short_description  \\\n",
       "0       Health experts said it is too early to predict...   \n",
       "1       He was subdued by passengers and crew when he ...   \n",
       "2       \"Until you have a dog you don't understand wha...   \n",
       "3       \"Accidentally put grown-up toothpaste on my to...   \n",
       "4       Amy Cooper accused investment firm Franklin Te...   \n",
       "...                                                   ...   \n",
       "209522  Verizon Wireless and AT&T are already promotin...   \n",
       "209523  Afterward, Azarenka, more effusive with the pr...   \n",
       "209524  Leading up to Super Bowl XLVI, the most talked...   \n",
       "209525  CORRECTION: An earlier version of this story i...   \n",
       "209526  The five-time all-star center tore into his te...   \n",
       "\n",
       "                     authors       date  \n",
       "0       Carla K. Johnson, AP 2022-09-23  \n",
       "1             Mary Papenfuss 2022-09-23  \n",
       "2              Elyse Wanshel 2022-09-23  \n",
       "3           Caroline Bologna 2022-09-23  \n",
       "4             Nina Golgowski 2022-09-22  \n",
       "...                      ...        ...  \n",
       "209522      Reuters, Reuters 2012-01-28  \n",
       "209523                       2012-01-28  \n",
       "209524                       2012-01-28  \n",
       "209525                       2012-01-28  \n",
       "209526                       2012-01-28  \n",
       "\n",
       "[209527 rows x 6 columns]"
      ]
     },
     "execution_count": 8,
     "metadata": {},
     "output_type": "execute_result"
    }
   ],
   "source": [
    "df"
   ]
  },
  {
   "cell_type": "code",
   "execution_count": 23,
   "id": "a0a5b43a-03b1-4530-800b-25f85aa4141f",
   "metadata": {},
   "outputs": [],
   "source": [
    "df = df.sample(1000).reset_index(drop=True)"
   ]
  },
  {
   "cell_type": "code",
   "execution_count": 24,
   "id": "f30d7978-9be9-4e4a-92af-2ab455616c9f",
   "metadata": {},
   "outputs": [],
   "source": [
    "df.to_parquet(\"text_data.parquet\", index=False)"
   ]
  },
  {
   "cell_type": "code",
   "execution_count": 10,
   "id": "d824aa08-3a25-4227-bb11-332c9ef4ed2d",
   "metadata": {},
   "outputs": [],
   "source": [
    "nlp = spacy.load(\"en_core_web_sm\")"
   ]
  },
  {
   "cell_type": "code",
   "execution_count": 11,
   "id": "6ca98e29-e934-4768-92df-de2f9f80da57",
   "metadata": {},
   "outputs": [],
   "source": [
    "doc = nlp(\"Apple is looking at buying U.K. startup for $1 billion\")"
   ]
  },
  {
   "cell_type": "code",
   "execution_count": 14,
   "id": "a2e5e433-9c9f-42a6-a30a-c6fab4397b51",
   "metadata": {},
   "outputs": [],
   "source": [
    "ents = [(e.text, e.label_) for e in doc.ents]"
   ]
  },
  {
   "cell_type": "code",
   "execution_count": 15,
   "id": "3b0a7dec-dbaa-40cc-87c9-a9a34f81bdb9",
   "metadata": {},
   "outputs": [
    {
     "data": {
      "text/plain": [
       "[('Apple', 'ORG'), ('U.K.', 'GPE'), ('$1 billion', 'MONEY')]"
      ]
     },
     "execution_count": 15,
     "metadata": {},
     "output_type": "execute_result"
    }
   ],
   "source": [
    "ents"
   ]
  },
  {
   "cell_type": "code",
   "execution_count": 19,
   "id": "9ab2554e-cab9-4844-9e5e-2139244fe5b2",
   "metadata": {},
   "outputs": [],
   "source": [
    "from tqdm import tqdm\n",
    "tqdm.pandas()"
   ]
  },
  {
   "cell_type": "code",
   "execution_count": 20,
   "id": "bb5b21c3-1930-4f34-81ba-baf5a9a09cc0",
   "metadata": {},
   "outputs": [],
   "source": [
    "def do_ner(text):\n",
    "    doc = nlp(text)\n",
    "    ents = [(e.text, e.label_) for e in doc.ents]\n",
    "    return ents"
   ]
  },
  {
   "cell_type": "code",
   "execution_count": 25,
   "id": "ed258677-5f84-4e55-812d-9efcb8360da9",
   "metadata": {},
   "outputs": [
    {
     "name": "stderr",
     "output_type": "stream",
     "text": [
      "100%|█████████████████████████████████████████████████████████████████████████████| 1000/1000 [00:04<00:00, 214.94it/s]\n"
     ]
    }
   ],
   "source": [
    "df['ents'] = df['headline'].progress_apply(do_ner)"
   ]
  },
  {
   "cell_type": "code",
   "execution_count": 26,
   "id": "fbea5db9-cb44-41a9-a05e-4e4f45594976",
   "metadata": {},
   "outputs": [
    {
     "data": {
      "text/plain": [
       "0                  [(9, CARDINAL), (Found Dead, PERSON)]\n",
       "1                                                     []\n",
       "2      [(9, CARDINAL), (Inspirational Fall Mantels, E...\n",
       "3      [(Leonardo DiCaprio Fights, PERSON), (Revenant...\n",
       "4              [(First Week On Crime And Voting, EVENT)]\n",
       "                             ...                        \n",
       "995    [(John Dingell, PERSON), (Longest Serving, ORG...\n",
       "996                      [(Paul Walker Tragedy, PERSON)]\n",
       "997    [(3, CARDINAL), (Pokemon Go', ORG), (Craze, PR...\n",
       "998                                                   []\n",
       "999    [(Inside DisneyWorld's, ORG), (Seven, CARDINAL...\n",
       "Name: ents, Length: 1000, dtype: object"
      ]
     },
     "execution_count": 26,
     "metadata": {},
     "output_type": "execute_result"
    }
   ],
   "source": [
    "df['ents']"
   ]
  },
  {
   "cell_type": "code",
   "execution_count": 32,
   "id": "5ade5e18-9953-4690-9f68-392b095ac3da",
   "metadata": {},
   "outputs": [],
   "source": [
    "import uuid"
   ]
  },
  {
   "cell_type": "code",
   "execution_count": 35,
   "id": "b385012b-f7e2-4765-b049-bfab59d72f37",
   "metadata": {},
   "outputs": [],
   "source": [
    "df['docid'] = [f\"doc://{str(uuid.uuid4())}\" for x in range(len(df))]"
   ]
  },
  {
   "cell_type": "code",
   "execution_count": 37,
   "id": "764276e7-81f8-456d-b03b-331fc63417c0",
   "metadata": {},
   "outputs": [],
   "source": [
    "df = df[df['ents'].str.len() > 0]"
   ]
  },
  {
   "cell_type": "code",
   "execution_count": 44,
   "id": "f097abbd-c84a-4dd2-a530-073660a9bf18",
   "metadata": {},
   "outputs": [],
   "source": [
    "df_ent = df[['docid', 'ents']]"
   ]
  },
  {
   "cell_type": "code",
   "execution_count": 49,
   "id": "eca7b284-a860-4e81-8c1a-49281fbca635",
   "metadata": {},
   "outputs": [],
   "source": [
    "df_ent = df_ent.explode('ents')"
   ]
  },
  {
   "cell_type": "code",
   "execution_count": 50,
   "id": "14362e5a-a188-4cb2-b887-6898647d0029",
   "metadata": {},
   "outputs": [
    {
     "data": {
      "text/html": [
       "<div>\n",
       "<style scoped>\n",
       "    .dataframe tbody tr th:only-of-type {\n",
       "        vertical-align: middle;\n",
       "    }\n",
       "\n",
       "    .dataframe tbody tr th {\n",
       "        vertical-align: top;\n",
       "    }\n",
       "\n",
       "    .dataframe thead th {\n",
       "        text-align: right;\n",
       "    }\n",
       "</style>\n",
       "<table border=\"1\" class=\"dataframe\">\n",
       "  <thead>\n",
       "    <tr style=\"text-align: right;\">\n",
       "      <th></th>\n",
       "      <th>docid</th>\n",
       "      <th>ents</th>\n",
       "    </tr>\n",
       "  </thead>\n",
       "  <tbody>\n",
       "    <tr>\n",
       "      <th>0</th>\n",
       "      <td>doc://e7875d7d-e38d-4846-85a9-61ab4bbd02a6</td>\n",
       "      <td>(9, CARDINAL)</td>\n",
       "    </tr>\n",
       "    <tr>\n",
       "      <th>0</th>\n",
       "      <td>doc://e7875d7d-e38d-4846-85a9-61ab4bbd02a6</td>\n",
       "      <td>(Found Dead, PERSON)</td>\n",
       "    </tr>\n",
       "    <tr>\n",
       "      <th>2</th>\n",
       "      <td>doc://5b0060b8-d034-4831-b980-9d8cb89eb130</td>\n",
       "      <td>(9, CARDINAL)</td>\n",
       "    </tr>\n",
       "    <tr>\n",
       "      <th>2</th>\n",
       "      <td>doc://5b0060b8-d034-4831-b980-9d8cb89eb130</td>\n",
       "      <td>(Inspirational Fall Mantels, EVENT)</td>\n",
       "    </tr>\n",
       "    <tr>\n",
       "      <th>3</th>\n",
       "      <td>doc://8763e31d-0767-432f-9dff-ead47017ab15</td>\n",
       "      <td>(Leonardo DiCaprio Fights, PERSON)</td>\n",
       "    </tr>\n",
       "    <tr>\n",
       "      <th>...</th>\n",
       "      <td>...</td>\n",
       "      <td>...</td>\n",
       "    </tr>\n",
       "    <tr>\n",
       "      <th>997</th>\n",
       "      <td>doc://eb9488f5-afa7-4829-9a20-16b7727b22b3</td>\n",
       "      <td>(Pokemon Go', ORG)</td>\n",
       "    </tr>\n",
       "    <tr>\n",
       "      <th>997</th>\n",
       "      <td>doc://eb9488f5-afa7-4829-9a20-16b7727b22b3</td>\n",
       "      <td>(Craze, PRODUCT)</td>\n",
       "    </tr>\n",
       "    <tr>\n",
       "      <th>999</th>\n",
       "      <td>doc://7fd59fd0-1245-4a6b-a828-49b7857fd862</td>\n",
       "      <td>(Inside DisneyWorld's, ORG)</td>\n",
       "    </tr>\n",
       "    <tr>\n",
       "      <th>999</th>\n",
       "      <td>doc://7fd59fd0-1245-4a6b-a828-49b7857fd862</td>\n",
       "      <td>(Seven, CARDINAL)</td>\n",
       "    </tr>\n",
       "    <tr>\n",
       "      <th>999</th>\n",
       "      <td>doc://7fd59fd0-1245-4a6b-a828-49b7857fd862</td>\n",
       "      <td>(Dwarfs Mine Train Ride, ORG)</td>\n",
       "    </tr>\n",
       "  </tbody>\n",
       "</table>\n",
       "<p>1157 rows × 2 columns</p>\n",
       "</div>"
      ],
      "text/plain": [
       "                                          docid  \\\n",
       "0    doc://e7875d7d-e38d-4846-85a9-61ab4bbd02a6   \n",
       "0    doc://e7875d7d-e38d-4846-85a9-61ab4bbd02a6   \n",
       "2    doc://5b0060b8-d034-4831-b980-9d8cb89eb130   \n",
       "2    doc://5b0060b8-d034-4831-b980-9d8cb89eb130   \n",
       "3    doc://8763e31d-0767-432f-9dff-ead47017ab15   \n",
       "..                                          ...   \n",
       "997  doc://eb9488f5-afa7-4829-9a20-16b7727b22b3   \n",
       "997  doc://eb9488f5-afa7-4829-9a20-16b7727b22b3   \n",
       "999  doc://7fd59fd0-1245-4a6b-a828-49b7857fd862   \n",
       "999  doc://7fd59fd0-1245-4a6b-a828-49b7857fd862   \n",
       "999  doc://7fd59fd0-1245-4a6b-a828-49b7857fd862   \n",
       "\n",
       "                                    ents  \n",
       "0                          (9, CARDINAL)  \n",
       "0                   (Found Dead, PERSON)  \n",
       "2                          (9, CARDINAL)  \n",
       "2    (Inspirational Fall Mantels, EVENT)  \n",
       "3     (Leonardo DiCaprio Fights, PERSON)  \n",
       "..                                   ...  \n",
       "997                   (Pokemon Go', ORG)  \n",
       "997                     (Craze, PRODUCT)  \n",
       "999          (Inside DisneyWorld's, ORG)  \n",
       "999                    (Seven, CARDINAL)  \n",
       "999        (Dwarfs Mine Train Ride, ORG)  \n",
       "\n",
       "[1157 rows x 2 columns]"
      ]
     },
     "execution_count": 50,
     "metadata": {},
     "output_type": "execute_result"
    }
   ],
   "source": [
    "df_ent"
   ]
  },
  {
   "cell_type": "code",
   "execution_count": 54,
   "id": "4a8e05fc-5912-49da-8edf-5b6e03884e7c",
   "metadata": {},
   "outputs": [],
   "source": [
    "df_ent[['ent', 'ent_type']] = pd.DataFrame(df_ent['ents'].tolist(), columns=['ent', 'ent_type'], index= df_ent.index)"
   ]
  },
  {
   "cell_type": "code",
   "execution_count": 57,
   "id": "4eadc16a-4941-4f05-85da-10d3a34f06cb",
   "metadata": {},
   "outputs": [
    {
     "ename": "TypeError",
     "evalue": "DataFrame.drop() got an unexpected keyword argument 'column'",
     "output_type": "error",
     "traceback": [
      "\u001b[1;31m---------------------------------------------------------------------------\u001b[0m",
      "\u001b[1;31mTypeError\u001b[0m                                 Traceback (most recent call last)",
      "Cell \u001b[1;32mIn[57], line 1\u001b[0m\n\u001b[1;32m----> 1\u001b[0m \u001b[43mdf_ent\u001b[49m\u001b[38;5;241;43m.\u001b[39;49m\u001b[43mdrop\u001b[49m\u001b[43m(\u001b[49m\u001b[43mcolumn\u001b[49m\u001b[38;5;241;43m=\u001b[39;49m\u001b[43m[\u001b[49m\u001b[38;5;124;43m'\u001b[39;49m\u001b[38;5;124;43ments\u001b[39;49m\u001b[38;5;124;43m'\u001b[39;49m\u001b[43m]\u001b[49m\u001b[43m)\u001b[49m\n",
      "File \u001b[1;32m~\\anaconda3\\Whisper\\lib\\site-packages\\pandas\\util\\_decorators.py:331\u001b[0m, in \u001b[0;36mdeprecate_nonkeyword_arguments.<locals>.decorate.<locals>.wrapper\u001b[1;34m(*args, **kwargs)\u001b[0m\n\u001b[0;32m    325\u001b[0m \u001b[38;5;28;01mif\u001b[39;00m \u001b[38;5;28mlen\u001b[39m(args) \u001b[38;5;241m>\u001b[39m num_allow_args:\n\u001b[0;32m    326\u001b[0m     warnings\u001b[38;5;241m.\u001b[39mwarn(\n\u001b[0;32m    327\u001b[0m         msg\u001b[38;5;241m.\u001b[39mformat(arguments\u001b[38;5;241m=\u001b[39m_format_argument_list(allow_args)),\n\u001b[0;32m    328\u001b[0m         \u001b[38;5;167;01mFutureWarning\u001b[39;00m,\n\u001b[0;32m    329\u001b[0m         stacklevel\u001b[38;5;241m=\u001b[39mfind_stack_level(),\n\u001b[0;32m    330\u001b[0m     )\n\u001b[1;32m--> 331\u001b[0m \u001b[38;5;28;01mreturn\u001b[39;00m func(\u001b[38;5;241m*\u001b[39margs, \u001b[38;5;241m*\u001b[39m\u001b[38;5;241m*\u001b[39mkwargs)\n",
      "\u001b[1;31mTypeError\u001b[0m: DataFrame.drop() got an unexpected keyword argument 'column'"
     ]
    }
   ],
   "source": [
    "df_ent.drop(column=['ents'])"
   ]
  },
  {
   "cell_type": "code",
   "execution_count": null,
   "id": "e60e91e3-84ef-4859-af07-f6b686cbbdc0",
   "metadata": {},
   "outputs": [],
   "source": []
  },
  {
   "cell_type": "code",
   "execution_count": null,
   "id": "37efcb4b-f065-4363-b9c2-41c6f9087054",
   "metadata": {},
   "outputs": [],
   "source": []
  }
 ],
 "metadata": {
  "kernelspec": {
   "display_name": "Python 3 (ipykernel)",
   "language": "python",
   "name": "python3"
  },
  "language_info": {
   "codemirror_mode": {
    "name": "ipython",
    "version": 3
   },
   "file_extension": ".py",
   "mimetype": "text/x-python",
   "name": "python",
   "nbconvert_exporter": "python",
   "pygments_lexer": "ipython3",
   "version": "3.10.13"
  }
 },
 "nbformat": 4,
 "nbformat_minor": 5
}
