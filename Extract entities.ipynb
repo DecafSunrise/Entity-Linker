{
 "cells": [
  {
   "cell_type": "markdown",
   "id": "d45ba84d-236d-4b2f-926a-004b92a627c9",
   "metadata": {},
   "source": [
    "https://www.kaggle.com/code/tanyan13/news-article-classification"
   ]
  },
  {
   "cell_type": "code",
   "execution_count": 1,
   "id": "98c380ed-523e-4b33-8624-a5aed66f3df8",
   "metadata": {},
   "outputs": [],
   "source": [
    "import txtai"
   ]
  },
  {
   "cell_type": "code",
   "execution_count": 2,
   "id": "51744e2f-683e-4364-9a65-1e0edf151b77",
   "metadata": {},
   "outputs": [],
   "source": [
    "import pandas as pd"
   ]
  },
  {
   "cell_type": "code",
   "execution_count": 5,
   "id": "27479b4e-d08e-4331-b76c-f03f8cef1740",
   "metadata": {},
   "outputs": [],
   "source": [
    "import json"
   ]
  },
  {
   "cell_type": "code",
   "execution_count": 3,
   "id": "e205777f-ddb5-45ac-8c82-6612ed521658",
   "metadata": {},
   "outputs": [],
   "source": [
    "dataset = r\"D:\\work\\data\\text\\News_Category_Dataset_v3.json\""
   ]
  },
  {
   "cell_type": "code",
   "execution_count": 7,
   "id": "2c761ade-5466-4ca7-b373-97375e43db1a",
   "metadata": {},
   "outputs": [],
   "source": [
    "df = pd.read_json (dataset, lines = True)"
   ]
  },
  {
   "cell_type": "code",
   "execution_count": 9,
   "id": "7a5fdced-b2f4-4e1c-8c37-359e8b26dd15",
   "metadata": {},
   "outputs": [],
   "source": [
    "import spacy"
   ]
  },
  {
   "cell_type": "code",
   "execution_count": 8,
   "id": "46cdea6b-b187-4c47-959d-ec97c69c8c37",
   "metadata": {},
   "outputs": [
    {
     "data": {
      "text/html": [
       "<div>\n",
       "<style scoped>\n",
       "    .dataframe tbody tr th:only-of-type {\n",
       "        vertical-align: middle;\n",
       "    }\n",
       "\n",
       "    .dataframe tbody tr th {\n",
       "        vertical-align: top;\n",
       "    }\n",
       "\n",
       "    .dataframe thead th {\n",
       "        text-align: right;\n",
       "    }\n",
       "</style>\n",
       "<table border=\"1\" class=\"dataframe\">\n",
       "  <thead>\n",
       "    <tr style=\"text-align: right;\">\n",
       "      <th></th>\n",
       "      <th>link</th>\n",
       "      <th>headline</th>\n",
       "      <th>category</th>\n",
       "      <th>short_description</th>\n",
       "      <th>authors</th>\n",
       "      <th>date</th>\n",
       "    </tr>\n",
       "  </thead>\n",
       "  <tbody>\n",
       "    <tr>\n",
       "      <th>0</th>\n",
       "      <td>https://www.huffpost.com/entry/covid-boosters-...</td>\n",
       "      <td>Over 4 Million Americans Roll Up Sleeves For O...</td>\n",
       "      <td>U.S. NEWS</td>\n",
       "      <td>Health experts said it is too early to predict...</td>\n",
       "      <td>Carla K. Johnson, AP</td>\n",
       "      <td>2022-09-23</td>\n",
       "    </tr>\n",
       "    <tr>\n",
       "      <th>1</th>\n",
       "      <td>https://www.huffpost.com/entry/american-airlin...</td>\n",
       "      <td>American Airlines Flyer Charged, Banned For Li...</td>\n",
       "      <td>U.S. NEWS</td>\n",
       "      <td>He was subdued by passengers and crew when he ...</td>\n",
       "      <td>Mary Papenfuss</td>\n",
       "      <td>2022-09-23</td>\n",
       "    </tr>\n",
       "    <tr>\n",
       "      <th>2</th>\n",
       "      <td>https://www.huffpost.com/entry/funniest-tweets...</td>\n",
       "      <td>23 Of The Funniest Tweets About Cats And Dogs ...</td>\n",
       "      <td>COMEDY</td>\n",
       "      <td>\"Until you have a dog you don't understand wha...</td>\n",
       "      <td>Elyse Wanshel</td>\n",
       "      <td>2022-09-23</td>\n",
       "    </tr>\n",
       "    <tr>\n",
       "      <th>3</th>\n",
       "      <td>https://www.huffpost.com/entry/funniest-parent...</td>\n",
       "      <td>The Funniest Tweets From Parents This Week (Se...</td>\n",
       "      <td>PARENTING</td>\n",
       "      <td>\"Accidentally put grown-up toothpaste on my to...</td>\n",
       "      <td>Caroline Bologna</td>\n",
       "      <td>2022-09-23</td>\n",
       "    </tr>\n",
       "    <tr>\n",
       "      <th>4</th>\n",
       "      <td>https://www.huffpost.com/entry/amy-cooper-lose...</td>\n",
       "      <td>Woman Who Called Cops On Black Bird-Watcher Lo...</td>\n",
       "      <td>U.S. NEWS</td>\n",
       "      <td>Amy Cooper accused investment firm Franklin Te...</td>\n",
       "      <td>Nina Golgowski</td>\n",
       "      <td>2022-09-22</td>\n",
       "    </tr>\n",
       "    <tr>\n",
       "      <th>...</th>\n",
       "      <td>...</td>\n",
       "      <td>...</td>\n",
       "      <td>...</td>\n",
       "      <td>...</td>\n",
       "      <td>...</td>\n",
       "      <td>...</td>\n",
       "    </tr>\n",
       "    <tr>\n",
       "      <th>209522</th>\n",
       "      <td>https://www.huffingtonpost.com/entry/rim-ceo-t...</td>\n",
       "      <td>RIM CEO Thorsten Heins' 'Significant' Plans Fo...</td>\n",
       "      <td>TECH</td>\n",
       "      <td>Verizon Wireless and AT&amp;T are already promotin...</td>\n",
       "      <td>Reuters, Reuters</td>\n",
       "      <td>2012-01-28</td>\n",
       "    </tr>\n",
       "    <tr>\n",
       "      <th>209523</th>\n",
       "      <td>https://www.huffingtonpost.com/entry/maria-sha...</td>\n",
       "      <td>Maria Sharapova Stunned By Victoria Azarenka I...</td>\n",
       "      <td>SPORTS</td>\n",
       "      <td>Afterward, Azarenka, more effusive with the pr...</td>\n",
       "      <td></td>\n",
       "      <td>2012-01-28</td>\n",
       "    </tr>\n",
       "    <tr>\n",
       "      <th>209524</th>\n",
       "      <td>https://www.huffingtonpost.com/entry/super-bow...</td>\n",
       "      <td>Giants Over Patriots, Jets Over Colts Among  M...</td>\n",
       "      <td>SPORTS</td>\n",
       "      <td>Leading up to Super Bowl XLVI, the most talked...</td>\n",
       "      <td></td>\n",
       "      <td>2012-01-28</td>\n",
       "    </tr>\n",
       "    <tr>\n",
       "      <th>209525</th>\n",
       "      <td>https://www.huffingtonpost.com/entry/aldon-smi...</td>\n",
       "      <td>Aldon Smith Arrested: 49ers Linebacker Busted ...</td>\n",
       "      <td>SPORTS</td>\n",
       "      <td>CORRECTION: An earlier version of this story i...</td>\n",
       "      <td></td>\n",
       "      <td>2012-01-28</td>\n",
       "    </tr>\n",
       "    <tr>\n",
       "      <th>209526</th>\n",
       "      <td>https://www.huffingtonpost.com/entry/dwight-ho...</td>\n",
       "      <td>Dwight Howard Rips Teammates After Magic Loss ...</td>\n",
       "      <td>SPORTS</td>\n",
       "      <td>The five-time all-star center tore into his te...</td>\n",
       "      <td></td>\n",
       "      <td>2012-01-28</td>\n",
       "    </tr>\n",
       "  </tbody>\n",
       "</table>\n",
       "<p>209527 rows × 6 columns</p>\n",
       "</div>"
      ],
      "text/plain": [
       "                                                     link  \\\n",
       "0       https://www.huffpost.com/entry/covid-boosters-...   \n",
       "1       https://www.huffpost.com/entry/american-airlin...   \n",
       "2       https://www.huffpost.com/entry/funniest-tweets...   \n",
       "3       https://www.huffpost.com/entry/funniest-parent...   \n",
       "4       https://www.huffpost.com/entry/amy-cooper-lose...   \n",
       "...                                                   ...   \n",
       "209522  https://www.huffingtonpost.com/entry/rim-ceo-t...   \n",
       "209523  https://www.huffingtonpost.com/entry/maria-sha...   \n",
       "209524  https://www.huffingtonpost.com/entry/super-bow...   \n",
       "209525  https://www.huffingtonpost.com/entry/aldon-smi...   \n",
       "209526  https://www.huffingtonpost.com/entry/dwight-ho...   \n",
       "\n",
       "                                                 headline   category  \\\n",
       "0       Over 4 Million Americans Roll Up Sleeves For O...  U.S. NEWS   \n",
       "1       American Airlines Flyer Charged, Banned For Li...  U.S. NEWS   \n",
       "2       23 Of The Funniest Tweets About Cats And Dogs ...     COMEDY   \n",
       "3       The Funniest Tweets From Parents This Week (Se...  PARENTING   \n",
       "4       Woman Who Called Cops On Black Bird-Watcher Lo...  U.S. NEWS   \n",
       "...                                                   ...        ...   \n",
       "209522  RIM CEO Thorsten Heins' 'Significant' Plans Fo...       TECH   \n",
       "209523  Maria Sharapova Stunned By Victoria Azarenka I...     SPORTS   \n",
       "209524  Giants Over Patriots, Jets Over Colts Among  M...     SPORTS   \n",
       "209525  Aldon Smith Arrested: 49ers Linebacker Busted ...     SPORTS   \n",
       "209526  Dwight Howard Rips Teammates After Magic Loss ...     SPORTS   \n",
       "\n",
       "                                        short_description  \\\n",
       "0       Health experts said it is too early to predict...   \n",
       "1       He was subdued by passengers and crew when he ...   \n",
       "2       \"Until you have a dog you don't understand wha...   \n",
       "3       \"Accidentally put grown-up toothpaste on my to...   \n",
       "4       Amy Cooper accused investment firm Franklin Te...   \n",
       "...                                                   ...   \n",
       "209522  Verizon Wireless and AT&T are already promotin...   \n",
       "209523  Afterward, Azarenka, more effusive with the pr...   \n",
       "209524  Leading up to Super Bowl XLVI, the most talked...   \n",
       "209525  CORRECTION: An earlier version of this story i...   \n",
       "209526  The five-time all-star center tore into his te...   \n",
       "\n",
       "                     authors       date  \n",
       "0       Carla K. Johnson, AP 2022-09-23  \n",
       "1             Mary Papenfuss 2022-09-23  \n",
       "2              Elyse Wanshel 2022-09-23  \n",
       "3           Caroline Bologna 2022-09-23  \n",
       "4             Nina Golgowski 2022-09-22  \n",
       "...                      ...        ...  \n",
       "209522      Reuters, Reuters 2012-01-28  \n",
       "209523                       2012-01-28  \n",
       "209524                       2012-01-28  \n",
       "209525                       2012-01-28  \n",
       "209526                       2012-01-28  \n",
       "\n",
       "[209527 rows x 6 columns]"
      ]
     },
     "execution_count": 8,
     "metadata": {},
     "output_type": "execute_result"
    }
   ],
   "source": [
    "df"
   ]
  },
  {
   "cell_type": "code",
   "execution_count": 23,
   "id": "a0a5b43a-03b1-4530-800b-25f85aa4141f",
   "metadata": {},
   "outputs": [],
   "source": [
    "df = df.sample(1000).reset_index(drop=True)"
   ]
  },
  {
   "cell_type": "code",
   "execution_count": 24,
   "id": "f30d7978-9be9-4e4a-92af-2ab455616c9f",
   "metadata": {},
   "outputs": [],
   "source": [
    "df.to_parquet(\"text_data.parquet\", index=False)"
   ]
  },
  {
   "cell_type": "code",
   "execution_count": 10,
   "id": "d824aa08-3a25-4227-bb11-332c9ef4ed2d",
   "metadata": {},
   "outputs": [],
   "source": [
    "nlp = spacy.load(\"en_core_web_sm\")"
   ]
  },
  {
   "cell_type": "code",
   "execution_count": 11,
   "id": "6ca98e29-e934-4768-92df-de2f9f80da57",
   "metadata": {},
   "outputs": [],
   "source": [
    "doc = nlp(\"Apple is looking at buying U.K. startup for $1 billion\")"
   ]
  },
  {
   "cell_type": "code",
   "execution_count": 14,
   "id": "a2e5e433-9c9f-42a6-a30a-c6fab4397b51",
   "metadata": {},
   "outputs": [],
   "source": [
    "ents = [(e.text, e.label_) for e in doc.ents]"
   ]
  },
  {
   "cell_type": "code",
   "execution_count": 15,
   "id": "3b0a7dec-dbaa-40cc-87c9-a9a34f81bdb9",
   "metadata": {},
   "outputs": [
    {
     "data": {
      "text/plain": [
       "[('Apple', 'ORG'), ('U.K.', 'GPE'), ('$1 billion', 'MONEY')]"
      ]
     },
     "execution_count": 15,
     "metadata": {},
     "output_type": "execute_result"
    }
   ],
   "source": [
    "ents"
   ]
  },
  {
   "cell_type": "code",
   "execution_count": null,
   "id": "b96a9a40-1645-4f9a-b5a8-3eede5f493b9",
   "metadata": {},
   "outputs": [],
   "source": []
  },
  {
   "cell_type": "code",
   "execution_count": 20,
   "id": "bb5b21c3-1930-4f34-81ba-baf5a9a09cc0",
   "metadata": {},
   "outputs": [],
   "source": [
    "def do_ner(text):\n",
    "    doc = nlp(text)\n",
    "    ents = [(e.text, e.label_) for e in doc.ents]\n",
    "    return ents"
   ]
  },
  {
   "cell_type": "code",
   "execution_count": 35,
   "id": "b385012b-f7e2-4765-b049-bfab59d72f37",
   "metadata": {},
   "outputs": [],
   "source": [
    "df['docid'] = [f\"doc://{str(uuid.uuid4())}\" for x in range(len(df))]"
   ]
  },
  {
   "cell_type": "code",
   "execution_count": 25,
   "id": "ed258677-5f84-4e55-812d-9efcb8360da9",
   "metadata": {},
   "outputs": [
    {
     "name": "stderr",
     "output_type": "stream",
     "text": [
      "100%|█████████████████████████████████████████████████████████████████████████████| 1000/1000 [00:04<00:00, 214.94it/s]\n"
     ]
    }
   ],
   "source": [
    "df['ents'] = df['headline'].progress_apply(do_ner)"
   ]
  },
  {
   "cell_type": "code",
   "execution_count": 26,
   "id": "fbea5db9-cb44-41a9-a05e-4e4f45594976",
   "metadata": {},
   "outputs": [
    {
     "data": {
      "text/plain": [
       "0                  [(9, CARDINAL), (Found Dead, PERSON)]\n",
       "1                                                     []\n",
       "2      [(9, CARDINAL), (Inspirational Fall Mantels, E...\n",
       "3      [(Leonardo DiCaprio Fights, PERSON), (Revenant...\n",
       "4              [(First Week On Crime And Voting, EVENT)]\n",
       "                             ...                        \n",
       "995    [(John Dingell, PERSON), (Longest Serving, ORG...\n",
       "996                      [(Paul Walker Tragedy, PERSON)]\n",
       "997    [(3, CARDINAL), (Pokemon Go', ORG), (Craze, PR...\n",
       "998                                                   []\n",
       "999    [(Inside DisneyWorld's, ORG), (Seven, CARDINAL...\n",
       "Name: ents, Length: 1000, dtype: object"
      ]
     },
     "execution_count": 26,
     "metadata": {},
     "output_type": "execute_result"
    }
   ],
   "source": [
    "df['ents']"
   ]
  },
  {
   "cell_type": "code",
   "execution_count": 37,
   "id": "764276e7-81f8-456d-b03b-331fc63417c0",
   "metadata": {},
   "outputs": [],
   "source": [
    "df = df[df['ents'].str.len() > 0]"
   ]
  },
  {
   "cell_type": "code",
   "execution_count": 69,
   "id": "f097abbd-c84a-4dd2-a530-073660a9bf18",
   "metadata": {},
   "outputs": [],
   "source": [
    "df_ent = df[['docid', 'ents']]"
   ]
  },
  {
   "cell_type": "code",
   "execution_count": 70,
   "id": "eca7b284-a860-4e81-8c1a-49281fbca635",
   "metadata": {},
   "outputs": [],
   "source": [
    "df_ent = df_ent.explode('ents').reset_index(drop=True)"
   ]
  },
  {
   "cell_type": "code",
   "execution_count": 72,
   "id": "4a8e05fc-5912-49da-8edf-5b6e03884e7c",
   "metadata": {},
   "outputs": [],
   "source": [
    "df_ent[['ent', 'ent_type']] = pd.DataFrame(df_ent['ents'].tolist(), columns=['ent', 'ent_type'], index= df_ent.index)"
   ]
  },
  {
   "cell_type": "code",
   "execution_count": 73,
   "id": "4eadc16a-4941-4f05-85da-10d3a34f06cb",
   "metadata": {},
   "outputs": [],
   "source": [
    "df_ent = df_ent.drop(columns=['ents'])"
   ]
  },
  {
   "cell_type": "code",
   "execution_count": 74,
   "id": "e60e91e3-84ef-4859-af07-f6b686cbbdc0",
   "metadata": {},
   "outputs": [
    {
     "data": {
      "text/html": [
       "<div>\n",
       "<style scoped>\n",
       "    .dataframe tbody tr th:only-of-type {\n",
       "        vertical-align: middle;\n",
       "    }\n",
       "\n",
       "    .dataframe tbody tr th {\n",
       "        vertical-align: top;\n",
       "    }\n",
       "\n",
       "    .dataframe thead th {\n",
       "        text-align: right;\n",
       "    }\n",
       "</style>\n",
       "<table border=\"1\" class=\"dataframe\">\n",
       "  <thead>\n",
       "    <tr style=\"text-align: right;\">\n",
       "      <th></th>\n",
       "      <th>docid</th>\n",
       "      <th>ent</th>\n",
       "      <th>ent_type</th>\n",
       "    </tr>\n",
       "  </thead>\n",
       "  <tbody>\n",
       "    <tr>\n",
       "      <th>0</th>\n",
       "      <td>doc://e7875d7d-e38d-4846-85a9-61ab4bbd02a6</td>\n",
       "      <td>9</td>\n",
       "      <td>CARDINAL</td>\n",
       "    </tr>\n",
       "    <tr>\n",
       "      <th>1</th>\n",
       "      <td>doc://e7875d7d-e38d-4846-85a9-61ab4bbd02a6</td>\n",
       "      <td>Found Dead</td>\n",
       "      <td>PERSON</td>\n",
       "    </tr>\n",
       "    <tr>\n",
       "      <th>2</th>\n",
       "      <td>doc://5b0060b8-d034-4831-b980-9d8cb89eb130</td>\n",
       "      <td>9</td>\n",
       "      <td>CARDINAL</td>\n",
       "    </tr>\n",
       "    <tr>\n",
       "      <th>3</th>\n",
       "      <td>doc://5b0060b8-d034-4831-b980-9d8cb89eb130</td>\n",
       "      <td>Inspirational Fall Mantels</td>\n",
       "      <td>EVENT</td>\n",
       "    </tr>\n",
       "    <tr>\n",
       "      <th>4</th>\n",
       "      <td>doc://8763e31d-0767-432f-9dff-ead47017ab15</td>\n",
       "      <td>Leonardo DiCaprio Fights</td>\n",
       "      <td>PERSON</td>\n",
       "    </tr>\n",
       "    <tr>\n",
       "      <th>...</th>\n",
       "      <td>...</td>\n",
       "      <td>...</td>\n",
       "      <td>...</td>\n",
       "    </tr>\n",
       "    <tr>\n",
       "      <th>1152</th>\n",
       "      <td>doc://eb9488f5-afa7-4829-9a20-16b7727b22b3</td>\n",
       "      <td>Pokemon Go'</td>\n",
       "      <td>ORG</td>\n",
       "    </tr>\n",
       "    <tr>\n",
       "      <th>1153</th>\n",
       "      <td>doc://eb9488f5-afa7-4829-9a20-16b7727b22b3</td>\n",
       "      <td>Craze</td>\n",
       "      <td>PRODUCT</td>\n",
       "    </tr>\n",
       "    <tr>\n",
       "      <th>1154</th>\n",
       "      <td>doc://7fd59fd0-1245-4a6b-a828-49b7857fd862</td>\n",
       "      <td>Inside DisneyWorld's</td>\n",
       "      <td>ORG</td>\n",
       "    </tr>\n",
       "    <tr>\n",
       "      <th>1155</th>\n",
       "      <td>doc://7fd59fd0-1245-4a6b-a828-49b7857fd862</td>\n",
       "      <td>Seven</td>\n",
       "      <td>CARDINAL</td>\n",
       "    </tr>\n",
       "    <tr>\n",
       "      <th>1156</th>\n",
       "      <td>doc://7fd59fd0-1245-4a6b-a828-49b7857fd862</td>\n",
       "      <td>Dwarfs Mine Train Ride</td>\n",
       "      <td>ORG</td>\n",
       "    </tr>\n",
       "  </tbody>\n",
       "</table>\n",
       "<p>1157 rows × 3 columns</p>\n",
       "</div>"
      ],
      "text/plain": [
       "                                           docid                         ent  \\\n",
       "0     doc://e7875d7d-e38d-4846-85a9-61ab4bbd02a6                           9   \n",
       "1     doc://e7875d7d-e38d-4846-85a9-61ab4bbd02a6                  Found Dead   \n",
       "2     doc://5b0060b8-d034-4831-b980-9d8cb89eb130                           9   \n",
       "3     doc://5b0060b8-d034-4831-b980-9d8cb89eb130  Inspirational Fall Mantels   \n",
       "4     doc://8763e31d-0767-432f-9dff-ead47017ab15    Leonardo DiCaprio Fights   \n",
       "...                                          ...                         ...   \n",
       "1152  doc://eb9488f5-afa7-4829-9a20-16b7727b22b3                 Pokemon Go'   \n",
       "1153  doc://eb9488f5-afa7-4829-9a20-16b7727b22b3                       Craze   \n",
       "1154  doc://7fd59fd0-1245-4a6b-a828-49b7857fd862        Inside DisneyWorld's   \n",
       "1155  doc://7fd59fd0-1245-4a6b-a828-49b7857fd862                       Seven   \n",
       "1156  doc://7fd59fd0-1245-4a6b-a828-49b7857fd862      Dwarfs Mine Train Ride   \n",
       "\n",
       "      ent_type  \n",
       "0     CARDINAL  \n",
       "1       PERSON  \n",
       "2     CARDINAL  \n",
       "3        EVENT  \n",
       "4       PERSON  \n",
       "...        ...  \n",
       "1152       ORG  \n",
       "1153   PRODUCT  \n",
       "1154       ORG  \n",
       "1155  CARDINAL  \n",
       "1156       ORG  \n",
       "\n",
       "[1157 rows x 3 columns]"
      ]
     },
     "execution_count": 74,
     "metadata": {},
     "output_type": "execute_result"
    }
   ],
   "source": [
    "df_ent"
   ]
  },
  {
   "cell_type": "code",
   "execution_count": 75,
   "id": "37efcb4b-f065-4363-b9c2-41c6f9087054",
   "metadata": {},
   "outputs": [
    {
     "data": {
      "text/plain": [
       "Donald Trump             9\n",
       "Donald Trump's           7\n",
       "Hillary Clinton          5\n",
       "Putin                    2\n",
       "Chris Christie           2\n",
       "Hillary Clinton Wins     2\n",
       "Trump                    2\n",
       "Bernie Sanders           2\n",
       "Chris                    2\n",
       "Michelle Obama's         2\n",
       "Mitt Romney's            2\n",
       "Roy Moore                2\n",
       "Steve King               2\n",
       "Elizabeth                2\n",
       "Paul Ryan                2\n",
       "Ceviche Tacos            1\n",
       "Marks Russell Crowe's    1\n",
       "Whaddya Say              1\n",
       "Found Dead               1\n",
       "Heidi Klum's             1\n",
       "David Beckham            1\n",
       "Nancy Pelosi             1\n",
       "Dale Earnhardt Jr.       1\n",
       "NASCAR                   1\n",
       "Gonzaga                  1\n",
       "Name: ent, dtype: int64"
      ]
     },
     "execution_count": 75,
     "metadata": {},
     "output_type": "execute_result"
    }
   ],
   "source": [
    "df_ent.loc[df_ent['ent_type']=='PERSON']['ent'].value_counts()[:25]"
   ]
  },
  {
   "cell_type": "markdown",
   "id": "432f5a25-21a3-4605-9c64-51a0744ae5a5",
   "metadata": {},
   "source": [
    "## need to make a deck of known ents"
   ]
  },
  {
   "cell_type": "code",
   "execution_count": null,
   "id": "2b0c714a-d2d2-41c1-8622-e631071041f9",
   "metadata": {},
   "outputs": [],
   "source": [
    "Donald Trump\n",
    "Hillary Clinton\n",
    "Putin\n",
    "Chris Christie\n",
    "Bernie Sanders\n",
    "Barak Obama\n",
    "Michelle Obama\n",
    "Mitt Romney\n",
    "Roy More\n",
    "Steve King\n",
    "Paul Ryan\n",
    "Heidi Klum\n",
    "Nancy Pelosi\n",
    "Dale Earnhardt Jr\n",
    "Robert Gerner"
   ]
  },
  {
   "cell_type": "code",
   "execution_count": 78,
   "id": "c0ca4e0c-76e2-4ae0-9e57-981c2f5075b9",
   "metadata": {},
   "outputs": [
    {
     "data": {
      "text/plain": [
       "dict_keys(['Donald Trump', \"Donald Trump's\", 'Hillary Clinton', 'Putin', 'Chris Christie', 'Hillary Clinton Wins', 'Trump', 'Bernie Sanders', 'Chris', \"Michelle Obama's\", \"Mitt Romney's\", 'Roy Moore', 'Steve King', 'Elizabeth', 'Paul Ryan', 'Ceviche Tacos', \"Marks Russell Crowe's\", 'Whaddya Say', 'Found Dead', \"Heidi Klum's\", 'David Beckham', 'Nancy Pelosi', 'Dale Earnhardt Jr.', 'NASCAR', 'Gonzaga', 'Robert Gerner Engaged', 'Janice Dickinson', 'Merrick Garland', 'Jalapeño Bacon-Wrapped Shrimp', 'Mark Ballas Dishes On', 'Devin Nunes Must', 'Roosevelt', 'Gene Therapy To Cure Blindness', 'Eric Trump', 'Katie Holmes Gray Hair', 'George W. Bush', 'John Oliver Rips', 'Michael Phelps', 'Ryan Lochte', 'Jimmy Fallon', 'Yanking Hijab', 'Lifelike Baby Sculpture', 'Louis C.K.', \"Jon Stewart 'Stunned'\", 'Flyer Miles', 'Liam Hemsworth', 'Rob Porter Case', 'Ratajkowski Sizzles', 'Giuliani Keeps Backpedaling', 'Barbie Angst', 'Different Worlds', 'Sandy Hook Families', 'Sweet Instagram', 'Tracy Morgan', 'Dave Matthews', 'Cruz Looks To Ease Bad Blood', 'Angela Bassett', 'Yeezy Taught Me', 'Kathy Griffin Lawyers', 'Cop Who Told Woman', 'Rio De Janeiro Declares State Of Financial Emergency', 'Obama', 'Dallas Shooting', 'Fauci', 'Weak Links', \"Alan Thicke's\", 'Younger Than', 'Taylor Swift Surprises', \"Marc Anthony Celebrate Twins'\", 'Lauren Underwood Beats', 'Marlene Dumas', 'Candy Crush Candies Are Apparently Real', 'David Letterman', 'Oscar Bash', 'Pedro Sanchez', 'Asteroid Mining', 'Benji Madden Wishes', 'Approval', 'Jack Markell', 'Issa Rae Recalls Non-Black TV Exec', \"O.J. Simpson Inexplicably Claims He's\", 'Steven Seagal Believes', 'Thou Art', \"Justin Bieber's '\", \"Don Jr.'s\", 'Mariano Rajoy', 'Flack', 'Trump Define', 'Bozo', 'Aziz Ansari', 'Vin Diesel', \"Hayes Nails '\", 'Judy Walker', \"Muhammad Ali's\", \"Jim Crow'\", \"Shows Young '\", 'The Top YouTube Videos', 'Adorable Instagram Caption', 'Jerry Falwell', 'Simone Manuel Hopes', \"Courtney Love's\", 'Samantha Bee Dedicates', 'Refuses To', 'Bryan Fischer', 'Hillary', 'Mary-Kate Olsen Launch', 'Dwayne Johnson', 'Sandra Joseph', 'Penn', \"Ahmaud Arbery's\", 'Assert Itself', 'Francis Became', 'Bob Goodlatte Enable Social', 'Obama Celebrates', 'James Franco Uploads', 'Lorde Gives Stunning', 'Great Pre-Trip', 'Avoid Mold', 'Paul Ryan Breaks', 'Ted Cruz Beats Back Donald Trump', 'John Dingell', 'Rebukes Miami', 'Jeffrey Epstein', \"Paul Ryan's\", 'Josh Duggar Checks', 'Susan Jacobs', 'Manchester Attack', 'Harry Potter', 'Monica Rose', \"Chris Evans'\", 'Kim Kardashian', 'Mike May', 'Jennifer Connelly', 'Rand Paul', 'Rubio Pushes Back', 'Princeville Or Pauper-ville', \"Russ Smith's\", 'Jumpstart', \"Arianna Huffington's\", 'Remains', 'Break Dancing', 'Donald Trump Fan', 'Hammer Boeing', 'Style Evolution', 'Jessica Simpson Baby', 'Chris Trueman', 'Cutout Hat', \"Jaden Smith's\", 'Teen Accused', 'Skinny Kids', 'Francis To', 'Max', 'Awkward Compliment', \"Jessica Simpson's\", 'Winner', 'Kara Laricks', 'Glenn Thrush', \"Bruno Mars' '\", 'Jon Stewart', 'Buzzer Beaters', 'Crashes', 'Pegi Vail', 'Ed Murray', 'Will Lose', 'Lox', 'Election Ads', 'Strawberry Salad', 'Carol Price', \"Mary's Humanity\", 'Artichoke Pasta', 'Vladimir Putin', \"Remove Donald Trump's\", 'Francis', 'Chorizo', \"Tamir Rice's\", \"Donald Trump '\", 'Motherhood', 'Call Todd Robbins', 'Russell Westbrook', 'Wants CNN', 'Harvey Weinstein Put', 'Tomato Salad', 'Unorthodox Jukebox', 'Alec Baldwin Feuds', \"Vanessa Marcotte's\", \"Mothaf**kin'\", 'Khloe Kardashian', 'Obamas Celebrate Their', 'Divorce', 'Mike Pence', \"Bill Gates's\", \"Lewis Fogle's\", 'Sharpens Focus', 'Jim Mattis', 'Richard Nixon', 'Ted Cruz Won', 'Staples Hack Affected', \"Ronald McDonald Eating McDonald's\", 'Free Alan Gross', 'Conway Should Have Been Disciplined', 'Beyond Symbolism', \"Hopes 'Imperfect'\", 'Jennifer Lawrence Picks', 'Rick Weiland', 'Lamar Odom', 'Mike Pompeo', \"Kim Kardashian's\", 'Ruth Bourdain Unmasked', 'Marijuana', 'Martha', 'Obama Family Hit', 'Turkish Riot Police Detain', 'Stolen Moment', 'Bin Ladens', \"Prince Charles' Charity\", 'Paul Rudd', 'Mountain Climber', 'Zsa Zsa Gabor Sells', 'Peele Say How They Really Feel', 'Valentine', 'Taylor Swift', 'Eid Mubarak', 'Mosaic Debuts', \"Jason Mecier's\", 'Josh Friedland', 'Alec Baldwin', 'JoJo', 'Kylie Jenner Graces', \"Queen Sugar'\", 'Settle', 'Biden Snub', 'Peter Doocy', 'Jen Psaki', 'James Lee Lyons', 'Jennifer Lawrence Shows Off', 'Snowman', 'Millie Bobby Brown Drops', 'Weekly Roundup', 'Chemist', 'Summer Perfumes', 'Ben Carson', 'Andre Maloney', 'Jong-ga Dining', 'Ayatollah Rafsanjani', 'Dwayne Johnson Surprised', \"Jennie Ottinger's\", 'Episode', 'Bill Maher', 'Sarah Silverman', \"Whitney Houston's\", 'Proud Boy Spoke', 'Donna', 'Format', 'Rachel Maddow Tears', 'Jeremy Corbyn', \"Anna Rexia'\", \"Deficit Hawks '\", 'Paul Krugman', \"Roy A '\", 'Mitt Calls', 'Brett Kavanaugh', 'Babysitter', 'Kills Off Stoner', 'Pepe The', 'Neil Gorsuch', 'Chuck Schumer', 'Luis Felber', 'Janelle Monae Give', \"Albuquerque Man Arrested For Stealing Mom's\", 'Vintage Photos', 'Kate Bosworth', \"Hillary Clinton Supports '\", \"Jack White's\", 'Craig David On', \"Kevin Smith Talks '\", 'Chitetsu Watanabe', 'D.C. Man', 'Seth Horvitz', 'Rex Tillerson', 'Pat McGrath', 'Jail Cell Noose', 'Bryan Fischer Connects Gay Men', 'Li Keqiang', 'Creator Wins', 'Newborns Are Useless', \"Donald Trump Opponents'\", \"Malcolm X's\", 'Craig Sager Really', 'Breast Cancer', 'Lesbians', \"Raymond Pettibon's\", 'John Oliver', 'Robin McGraw', 'Matchy Look', 'Jerry Seinfeld', 'Obama Joins', 'Michael B. Jordan', 'Leonardo DiCaprio Fights', 'Jack The Ripper Finally Identified', 'Gloria Carter', 'Vince Carter', 'Obama Hits', 'Gwen Stefani', 'Beyonce', 'Angela', 'Will Kanye Run', 'Jesus Christ Descends', 'Jason Chaffetz', 'Harvey Weinstein', 'Islam Karimov Dead', 'Louis Vuitton', 'Pedophilia', 'Glu Accelerates Diabetes Sharing', 'Kelly Clarkson', 'CNNMoney', 'Ikea Aims To Halve Food Waste', \"Eric Cantor's\", 'Dessert Recipes', \"Harvey Weinstein's\", 'Anita Hill', \"Kristen Wiig's\", 'Vivienne Westwood', \"Virgin Atlantic's\", 'Couch Burning', 'Darth Vader', 'Jeb Bush', 'Couple Renews Vows', 'Roy Moore Endorsement', 'Kellyanne Conway Defends', \"Andy Warhol's\", 'Tax Havens', 'John Bolton', 'Jimmy Carter', 'Cruz', 'Clinton', 'Marco Rubio’s', 'Incoherent', 'Melted Witch Push-Up Pops', 'Mississippi Clerks', 'Generosity', 'Elliot Rodger', 'Bill Cosby', 'Larry Wilmore', 'Schizophrenia', 'Robin Leach', 'Emmy Rossum', 'Ryan Murphy', \"Ned Brower's\", 'Sarah Jane Morris', 'Gollum Talking With', 'McGregor', 'Bad Lip Reading Of Trash', 'Jennifer Lawrence Sees', 'Dangerous', 'Paul Walker Tragedy'])"
      ]
     },
     "execution_count": 78,
     "metadata": {},
     "output_type": "execute_result"
    }
   ],
   "source": [
    "df_ent.loc[df_ent['ent_type']=='PERSON']['ent'].value_counts().to_dict().keys()"
   ]
  },
  {
   "cell_type": "code",
   "execution_count": null,
   "id": "d65af374-a9bd-439a-a4d6-017cc1925dac",
   "metadata": {},
   "outputs": [],
   "source": []
  }
 ],
 "metadata": {
  "kernelspec": {
   "display_name": "Python 3 (ipykernel)",
   "language": "python",
   "name": "python3"
  },
  "language_info": {
   "codemirror_mode": {
    "name": "ipython",
    "version": 3
   },
   "file_extension": ".py",
   "mimetype": "text/x-python",
   "name": "python",
   "nbconvert_exporter": "python",
   "pygments_lexer": "ipython3",
   "version": "3.10.13"
  }
 },
 "nbformat": 4,
 "nbformat_minor": 5
}
